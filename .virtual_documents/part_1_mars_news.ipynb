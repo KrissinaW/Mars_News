


# Import Splinter and BeautifulSoup
from splinter import Browser
from bs4 import BeautifulSoup


browser = Browser('chrome')





# Visit the Mars news site
url = 'https://static.bc-edx.com/data/web/mars_news/index.html'
browser.visit(url)





# Create a Beautiful Soup object
html= browser.html
mars= BeautifulSoup(html, "html.parser")


# Extract all the text elements
text_elements = mars.find_all('div', class_='list_text')
text_elements





# Create an empty list to store the dictionaries
mars_data= []


# Loop through the text elements
# Extract the title and preview text from the elements
# Store each title and preview pair in a dictionary
# Add the dictionary to the list
for element in text_elements:
    pair_dict = {}
    pair_dict ['title'] = element.find_all('div', class_='content_title')[0].text
    pair_dict ['preview'] = element.find_all('div', class_='article_teaser_body')[0].text
    mars_data.append(pair_dict)

pair_dict


# Print the list to confirm success
mars_data


browser.quit()



