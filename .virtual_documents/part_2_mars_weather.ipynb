


# Import relevant libraries
from splinter import Browser
from bs4 import BeautifulSoup
import matplotlib.pyplot as plt
import pandas as pd


browser = Browser('chrome')





# Visit the website
# https://static.bc-edx.com/data/web/mars_facts/temperature.html
url = "https://static.bc-edx.com/data/web/mars_facts/temperature.html"
browser.visit(url)





# Create a Beautiful Soup Object
html = browser.html
mars = BeautifulSoup(html, 'html.parser')


# Extract all rows of data
table_elements = mars.find_all('tr', class_='data-row')





# Create an empty list
row_data = []
# Loop through the scraped data to create a list of rows
for row in table_elements:
    cell_values = row.find_all('td')
    values = []
    for value in cell_values:
        values.append(value.text)
    row_data.append(values)


# Create a Pandas DataFrame by using the list of rows and a list of the column names
mars_df =pd.DataFrame(row_data, columns = ['id', 'terrestrial_date', 'sol', 'ls', 'month', 'min_temp', 'pressure']) 


# Confirm DataFrame was created successfully
mars_df





# Examine data type of each column
mars_df.dtypes


# Change data types for data analysis
mars_df['id']= pd.to_numeric(mars_df['id'])
mars_df['terrestrial_date']= pd.to_datetime(mars_df['terrestrial_date'])
mars_df['sol']= pd.to_numeric(mars_df['sol'])
mars_df['ls']= pd.to_numeric(mars_df['ls'])
mars_df['month']= pd.to_numeric(mars_df['month'])
mars_df['min_temp']= pd.to_numeric(mars_df['min_temp'])
mars_df['pressure']= pd.to_numeric(mars_df['pressure'])


# Confirm type changes were successful by examining data types again
mars_df.dtypes





# 1. How many months are there on Mars?
mars_df['month'].max()


# 2. How many Martian days' worth of data are there?



# 3. What is the average low temperature by month?



# Plot the average temperature by month



# Identify the coldest and hottest months in Curiosity's location



# 4. Average pressure by Martian month



# Plot the average pressure by month



# 5. How many terrestrial (earth) days are there in a Martian year?















# Write the data to a CSV



browser.quit()



