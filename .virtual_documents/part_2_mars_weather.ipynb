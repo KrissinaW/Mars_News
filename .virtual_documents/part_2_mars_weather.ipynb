


# Import relevant libraries
from splinter import Browser
from bs4 import BeautifulSoup
import matplotlib.pyplot as plt
import pandas as pd


browser = Browser('chrome')





# Visit the website
# https://static.bc-edx.com/data/web/mars_facts/temperature.html
url = "https://static.bc-edx.com/data/web/mars_facts/temperature.html"
browser.visit(url)





# Create a Beautiful Soup Object
html = browser.html
mars = BeautifulSoup(html, 'html.parser')


# Extract all rows of data
table_elements = mars.find_all('tr', class_='data-row')





# Create an empty list
row_data = []
# Loop through the scraped data to create a list of rows
for row in table_elements:
    cell_values = row.find_all('td')
    values = []
    for value in cell_values:
        values.append(value.text)
    row_data.append(values)


# Create a Pandas DataFrame by using the list of rows and a list of the column names
mars_df =pd.DataFrame(row_data, columns = ['id', 'terrestrial_date', 'sol', 'ls', 'month', 'min_temp', 'pressure']) 


# Confirm DataFrame was created successfully
mars_df





# Examine data type of each column
mars_df.dtypes


# Change data types for data analysis
mars_df['id']= pd.to_numeric(mars_df['id'])
mars_df['terrestrial_date']= pd.to_datetime(mars_df['terrestrial_date'])
mars_df['sol']= pd.to_numeric(mars_df['sol'])
mars_df['ls']= pd.to_numeric(mars_df['ls'])
mars_df['month']= pd.to_numeric(mars_df['month'])
mars_df['min_temp']= pd.to_numeric(mars_df['min_temp'])
mars_df['pressure']= pd.to_numeric(mars_df['pressure'])


# Confirm type changes were successful by examining data types again
mars_df.dtypes





# 1. How many months are there on Mars?
mars_df['month'].max()


# 2. How many Martian days' worth of data are there?
length_of_list= len(mars_df)
mars_days_max = mars_df["sol"].max()
mars_days_min = mars_df["sol"].min()
mars_days = mars_days_max - mars_days_min
print(f"Total number of data entries: {length_of_list}")
print(f"Max recorded sol value: {mars_days_max}")
print(f"Min recorded sol value: {mars_days_min}")
print(f"Number of Mars Days (with 100 missing entries):{mars_days}")


# 3. What is the average low temperature by month?
average_low_temp = mars_df["min_temp"].groupby(mars_df['month']).mean()
average_low_temp


# Plot the average temperature by month
average_low_temp.plot.bar(rot = 0)
plt.ylabel("average_low_temp")


# Identify the coldest and hottest months in Curiosity's location
hottest_month = average_low_temp.idxmax()
hottest_month_temp = average_low_temp.max()
coldest_month = average_low_temp.idxmin()
coldest_month_temp = average_low_temp.min()
print(f"Month #{hottest_month} had the hottest average temprature of {hottest_month_temp}")
print(f"Month #{coldest_month} had the coldest average temprature of {coldest_month_temp}")


# 4. Average pressure by Martian month
avg_pressure_monthly = mars_df.groupby("month").agg({"pressure": "mean"})
avg_pressure_monthly


# Plot the average pressure by month
avg_pressure_monthly.plot.bar(rot=0)
plt.ylabel("Pressure (mmHg)")


# 5. How many terrestrial (earth) days are there in a Martian year?

#column that that calculates days/ and find first recorded date
first_terra_day = mars_df['terrestrial_date'].agg('min')

#create a new df w/ min temps
terra_days_min_temps_df = pd.DataFrame({
    "min_temp":mars_df['min_temp'],
    "terra_days": mars_df['terrestrial_date'] - first_terra_day
})

#plot the int value of earth days vs. the min temps for each sol record
plt.plot(terra_days_min_temps_df["terra_days"].dt.days, terra_days_min_temps_df["min_temp"])
plt.xlabel("Number of terrestrial days")
plt.ylabel("Minimum temprature")
plt.show()














# Write the data to a CSV
new_mars_df.to_csv("Mars_data.csv", header= True, index= False, date_format= "%Y-%m-%d")


browser.quit()



